{
  "cells": [
    {
      "cell_type": "markdown",
      "metadata": {
        "id": "view-in-github",
        "colab_type": "text"
      },
      "source": [
        "<a href=\"https://colab.research.google.com/github/assafrbi/mini-project-Digital-Humanities/blob/main/dh_mini.ipynb\" target=\"_parent\"><img src=\"https://colab.research.google.com/assets/colab-badge.svg\" alt=\"Open In Colab\"/></a>"
      ]
    },
    {
      "cell_type": "code",
      "source": [
        "# Python Package imports\n",
        "import requests\n",
        "from bs4 import BeautifulSoup\n",
        "from dateutil.parser import parse\n",
        "import concurrent.futures\n",
        "import pandas as pd"
      ],
      "metadata": {
        "id": "kkhA87fh2KoS"
      },
      "execution_count": 1,
      "outputs": []
    },
    {
      "cell_type": "code",
      "source": [
        "# Maximum number of threads that will be spawned\n",
        "MAX_THREADS = 50"
      ],
      "metadata": {
        "id": "nSDhWV2EeqoZ"
      },
      "execution_count": 2,
      "outputs": []
    },
    {
      "cell_type": "markdown",
      "metadata": {
        "id": "0JbvRwRRc--5"
      },
      "source": [
        "### Load Data"
      ]
    },
    {
      "cell_type": "code",
      "source": [
        "movie_title_arr = []\n",
        "movie_year_arr = []\n",
        "movie_genre_arr = []\n",
        "movie_synopsis_arr =[]\n",
        "image_url_arr  = []\n",
        "image_id_arr = []"
      ],
      "metadata": {
        "id": "DjiMB02resyv"
      },
      "execution_count": 3,
      "outputs": []
    },
    {
      "cell_type": "code",
      "source": [
        "def getMovieTitle(header):\n",
        "    try:\n",
        "        return header[0].find(\"a\").getText()\n",
        "    except:\n",
        "        return 'NA'\n",
        "\n",
        "def getReleaseYear(header):\n",
        "    try:\n",
        "        return header[0].find(\"span\",  {\"class\": \"lister-item-year text-muted unbold\"}).getText()\n",
        "    except:\n",
        "        return 'NA'\n",
        "\n",
        "def getGenre(muted_text):\n",
        "    try:\n",
        "        return muted_text.find(\"span\",  {\"class\":  \"genre\"}).getText()\n",
        "    except:\n",
        "        return 'NA'\n",
        "\n",
        "def getsynopsys(movie):\n",
        "    try:\n",
        "        return movie.find_all(\"p\", {\"class\":  \"text-muted\"})[1].getText()\n",
        "    except:\n",
        "        return 'NA'\n",
        "\n",
        "def getImage(image):\n",
        "    try:\n",
        "        return image.get('loadlate')\n",
        "    except:\n",
        "        return 'NA'\n",
        "\n",
        "def getImageId(image):\n",
        "    try:\n",
        "        return image.get('data-tconst')\n",
        "    except:\n",
        "        return 'NA'"
      ],
      "metadata": {
        "id": "hq9RyGdNeupn"
      },
      "execution_count": 4,
      "outputs": []
    },
    {
      "cell_type": "code",
      "source": [
        "def main(imdb_url):\n",
        "    response = requests.get(imdb_url)\n",
        "    soup = BeautifulSoup(response.text, 'html.parser')\n",
        "\n",
        "    # Movie Name\n",
        "    movies_list  = soup.find_all(\"div\", {\"class\": \"lister-item mode-advanced\"})\n",
        "    \n",
        "    for movie in movies_list:\n",
        "        header = movie.find_all(\"h3\", {\"class\":  \"lister-item-header\"})\n",
        "        muted_text = movie.find_all(\"p\", {\"class\":  \"text-muted\"})[0]\n",
        "        imageDiv =  movie.find(\"div\", {\"class\": \"lister-item-image float-left\"})\n",
        "        image = imageDiv.find(\"img\", \"loadlate\")\n",
        "        \n",
        "        #  Movie Title\n",
        "        movie_title =  getMovieTitle(header)\n",
        "        movie_title_arr.append(movie_title)\n",
        "        \n",
        "        #  Movie release year\n",
        "        year = getReleaseYear(header)\n",
        "        movie_year_arr.append(year)\n",
        "        \n",
        "        #  Genre  of movie\n",
        "        genre = getGenre(muted_text)\n",
        "        movie_genre_arr.append(genre)\n",
        "        \n",
        "        # Movie Synopsys\n",
        "        synopsis = getsynopsys(movie)\n",
        "        movie_synopsis_arr.append(synopsis)\n",
        "        \n",
        "        #  Image attributes\n",
        "        img_url = getImage(image)\n",
        "        image_url_arr.append(img_url)\n",
        "        \n",
        "        image_id = image.get('data-tconst')\n",
        "        image_id_arr.append(image_id)"
      ],
      "metadata": {
        "id": "YcI-6a5Sew_W"
      },
      "execution_count": 5,
      "outputs": []
    },
    {
      "cell_type": "code",
      "source": [
        "# An array to store all the URL that are being queried\n",
        "imageArr = []\n",
        "\n",
        "# Maximum number of pages one wants to iterate over\n",
        "MAX_PAGE =51\n",
        "\n",
        "# Loop to generate all the URLS.\n",
        "for i in range(1, 1500, 50):\n",
        "    imdb_url = f'https://www.imdb.com/search/title/?title_type=feature&countries=il&start={i}&ref_=adv_nxt'\n",
        "    imageArr.append(imdb_url)"
      ],
      "metadata": {
        "id": "qu5z8-o6e1aL"
      },
      "execution_count": 6,
      "outputs": []
    },
    {
      "cell_type": "code",
      "source": [
        "def download_stories(story_urls):\n",
        "    threads = min(MAX_THREADS, len(story_urls))\n",
        "    with concurrent.futures.ThreadPoolExecutor(max_workers=threads) as executor:\n",
        "        executor.map(main, story_urls)"
      ],
      "metadata": {
        "id": "guZjf9phfEB3"
      },
      "execution_count": 7,
      "outputs": []
    },
    {
      "cell_type": "code",
      "source": [
        "# Call the download function with the array of URLS called imageArr\n",
        "download_stories(imageArr)\n",
        "\n",
        "# Attach all the data to the pandas dataframe. You can optionally write it to a CSV file as well\n",
        "movieDf = pd.DataFrame({\n",
        "    \"Title\": movie_title_arr,\n",
        "    \"Release_Year\": movie_year_arr,\n",
        "    \"Genre\": movie_genre_arr,\n",
        "    \"Synopsis\": movie_synopsis_arr,\n",
        "    \"image_url\": image_url_arr,\n",
        "    \"image_id\": image_id_arr,\n",
        "})\n",
        "\n",
        "print('--------- Download Complete CSV Formed --------')\n",
        "\n",
        "# movie.to_csv('file.csv', index=False) : If you want to store the file.\n",
        "movieDf"
      ],
      "metadata": {
        "colab": {
          "base_uri": "https://localhost:8080/",
          "height": 441
        },
        "id": "6a19FAWqfHOF",
        "outputId": "4668f508-042e-46f5-d5e0-8eae7bd33ee3"
      },
      "execution_count": 8,
      "outputs": [
        {
          "output_type": "stream",
          "name": "stdout",
          "text": [
            "--------- Download Complete CSV Formed --------\n"
          ]
        },
        {
          "output_type": "execute_result",
          "data": {
            "text/plain": [
              "                                              Title Release_Year  \\\n",
              "0                 Untitled Horatio Spafford Project                \n",
              "1                 The Untitled Matan Shiram Project                \n",
              "2                                          Landsman       (2009)   \n",
              "3                                              Visa   (I) (2013)   \n",
              "4                                   Funeral at Noon       (2013)   \n",
              "...                                             ...          ...   \n",
              "1466  Trailer WoW Movie I - The Battle of Hillsbrad       (2022)   \n",
              "1467                                 Marco and Polo                \n",
              "1468                                 Love Chapter 2       (2017)   \n",
              "1469                                 Again, Forever       (1985)   \n",
              "1470                         The Golden Pomegranate       (2010)   \n",
              "\n",
              "                                    Genre  \\\n",
              "0     \\nBiography, Drama, War               \n",
              "1                     \\nDrama               \n",
              "2                     \\nDrama               \n",
              "3             \\nComedy, Drama               \n",
              "4                     \\nDrama               \n",
              "...                                   ...   \n",
              "1466                 \\nComedy               \n",
              "1467         \\nMusic, Romance               \n",
              "1468                  \\nDrama               \n",
              "1469                  \\nDrama               \n",
              "1470                  \\nDrama               \n",
              "\n",
              "                                               Synopsis  \\\n",
              "0     \\nA famous Chicago lawyer loses family and for...   \n",
              "1     \\nImpressions from moments of observation. For...   \n",
              "2     \\nSeventy-eight-year-old Ze'ev Landsman gives ...   \n",
              "3     \\nA sham marriage for the sake of a UK residen...   \n",
              "4     \\nA young housewife yearns for human contact i...   \n",
              "...                                                 ...   \n",
              "1466  \\n2 Israeli Orthodox Jews advertise themselves...   \n",
              "1467  \\nA look at the chaos and confusion of love fe...   \n",
              "1468  \\nA highly successful lawyer realises, after a...   \n",
              "1469  \\nMichale is a thirty year old woman. She work...   \n",
              "1470  \\nNoa (Achinoam Nini), a popular Israeli singe...   \n",
              "\n",
              "                                              image_url    image_id  \n",
              "0     https://m.media-amazon.com/images/M/MV5BZGFkZj...  tt13572382  \n",
              "1     https://m.media-amazon.com/images/M/MV5BYjgwND...  tt11101452  \n",
              "2     https://m.media-amazon.com/images/M/MV5BZGIxMW...   tt1438464  \n",
              "3     https://m.media-amazon.com/images/M/MV5BMjNiNj...   tt3002628  \n",
              "4     https://m.media-amazon.com/images/M/MV5BMTY4Nz...   tt3114224  \n",
              "...                                                 ...         ...  \n",
              "1466  https://m.media-amazon.com/images/S/sash/NapCx...   tt4365542  \n",
              "1467  https://m.media-amazon.com/images/M/MV5BNTZlY2...  tt12398004  \n",
              "1468  https://m.media-amazon.com/images/M/MV5BZTM3Mj...   tt0089931  \n",
              "1469  https://m.media-amazon.com/images/M/MV5BMjE1MD...   tt0362427  \n",
              "1470  https://m.media-amazon.com/images/M/MV5BMTc2NT...   tt1719671  \n",
              "\n",
              "[1471 rows x 6 columns]"
            ],
            "text/html": [
              "\n",
              "  <div id=\"df-6d933a52-0ef7-465b-82e9-9904bd42fcca\">\n",
              "    <div class=\"colab-df-container\">\n",
              "      <div>\n",
              "<style scoped>\n",
              "    .dataframe tbody tr th:only-of-type {\n",
              "        vertical-align: middle;\n",
              "    }\n",
              "\n",
              "    .dataframe tbody tr th {\n",
              "        vertical-align: top;\n",
              "    }\n",
              "\n",
              "    .dataframe thead th {\n",
              "        text-align: right;\n",
              "    }\n",
              "</style>\n",
              "<table border=\"1\" class=\"dataframe\">\n",
              "  <thead>\n",
              "    <tr style=\"text-align: right;\">\n",
              "      <th></th>\n",
              "      <th>Title</th>\n",
              "      <th>Release_Year</th>\n",
              "      <th>Genre</th>\n",
              "      <th>Synopsis</th>\n",
              "      <th>image_url</th>\n",
              "      <th>image_id</th>\n",
              "    </tr>\n",
              "  </thead>\n",
              "  <tbody>\n",
              "    <tr>\n",
              "      <th>0</th>\n",
              "      <td>Untitled Horatio Spafford Project</td>\n",
              "      <td></td>\n",
              "      <td>\\nBiography, Drama, War</td>\n",
              "      <td>\\nA famous Chicago lawyer loses family and for...</td>\n",
              "      <td>https://m.media-amazon.com/images/M/MV5BZGFkZj...</td>\n",
              "      <td>tt13572382</td>\n",
              "    </tr>\n",
              "    <tr>\n",
              "      <th>1</th>\n",
              "      <td>The Untitled Matan Shiram Project</td>\n",
              "      <td></td>\n",
              "      <td>\\nDrama</td>\n",
              "      <td>\\nImpressions from moments of observation. For...</td>\n",
              "      <td>https://m.media-amazon.com/images/M/MV5BYjgwND...</td>\n",
              "      <td>tt11101452</td>\n",
              "    </tr>\n",
              "    <tr>\n",
              "      <th>2</th>\n",
              "      <td>Landsman</td>\n",
              "      <td>(2009)</td>\n",
              "      <td>\\nDrama</td>\n",
              "      <td>\\nSeventy-eight-year-old Ze'ev Landsman gives ...</td>\n",
              "      <td>https://m.media-amazon.com/images/M/MV5BZGIxMW...</td>\n",
              "      <td>tt1438464</td>\n",
              "    </tr>\n",
              "    <tr>\n",
              "      <th>3</th>\n",
              "      <td>Visa</td>\n",
              "      <td>(I) (2013)</td>\n",
              "      <td>\\nComedy, Drama</td>\n",
              "      <td>\\nA sham marriage for the sake of a UK residen...</td>\n",
              "      <td>https://m.media-amazon.com/images/M/MV5BMjNiNj...</td>\n",
              "      <td>tt3002628</td>\n",
              "    </tr>\n",
              "    <tr>\n",
              "      <th>4</th>\n",
              "      <td>Funeral at Noon</td>\n",
              "      <td>(2013)</td>\n",
              "      <td>\\nDrama</td>\n",
              "      <td>\\nA young housewife yearns for human contact i...</td>\n",
              "      <td>https://m.media-amazon.com/images/M/MV5BMTY4Nz...</td>\n",
              "      <td>tt3114224</td>\n",
              "    </tr>\n",
              "    <tr>\n",
              "      <th>...</th>\n",
              "      <td>...</td>\n",
              "      <td>...</td>\n",
              "      <td>...</td>\n",
              "      <td>...</td>\n",
              "      <td>...</td>\n",
              "      <td>...</td>\n",
              "    </tr>\n",
              "    <tr>\n",
              "      <th>1466</th>\n",
              "      <td>Trailer WoW Movie I - The Battle of Hillsbrad</td>\n",
              "      <td>(2022)</td>\n",
              "      <td>\\nComedy</td>\n",
              "      <td>\\n2 Israeli Orthodox Jews advertise themselves...</td>\n",
              "      <td>https://m.media-amazon.com/images/S/sash/NapCx...</td>\n",
              "      <td>tt4365542</td>\n",
              "    </tr>\n",
              "    <tr>\n",
              "      <th>1467</th>\n",
              "      <td>Marco and Polo</td>\n",
              "      <td></td>\n",
              "      <td>\\nMusic, Romance</td>\n",
              "      <td>\\nA look at the chaos and confusion of love fe...</td>\n",
              "      <td>https://m.media-amazon.com/images/M/MV5BNTZlY2...</td>\n",
              "      <td>tt12398004</td>\n",
              "    </tr>\n",
              "    <tr>\n",
              "      <th>1468</th>\n",
              "      <td>Love Chapter 2</td>\n",
              "      <td>(2017)</td>\n",
              "      <td>\\nDrama</td>\n",
              "      <td>\\nA highly successful lawyer realises, after a...</td>\n",
              "      <td>https://m.media-amazon.com/images/M/MV5BZTM3Mj...</td>\n",
              "      <td>tt0089931</td>\n",
              "    </tr>\n",
              "    <tr>\n",
              "      <th>1469</th>\n",
              "      <td>Again, Forever</td>\n",
              "      <td>(1985)</td>\n",
              "      <td>\\nDrama</td>\n",
              "      <td>\\nMichale is a thirty year old woman. She work...</td>\n",
              "      <td>https://m.media-amazon.com/images/M/MV5BMjE1MD...</td>\n",
              "      <td>tt0362427</td>\n",
              "    </tr>\n",
              "    <tr>\n",
              "      <th>1470</th>\n",
              "      <td>The Golden Pomegranate</td>\n",
              "      <td>(2010)</td>\n",
              "      <td>\\nDrama</td>\n",
              "      <td>\\nNoa (Achinoam Nini), a popular Israeli singe...</td>\n",
              "      <td>https://m.media-amazon.com/images/M/MV5BMTc2NT...</td>\n",
              "      <td>tt1719671</td>\n",
              "    </tr>\n",
              "  </tbody>\n",
              "</table>\n",
              "<p>1471 rows × 6 columns</p>\n",
              "</div>\n",
              "      <button class=\"colab-df-convert\" onclick=\"convertToInteractive('df-6d933a52-0ef7-465b-82e9-9904bd42fcca')\"\n",
              "              title=\"Convert this dataframe to an interactive table.\"\n",
              "              style=\"display:none;\">\n",
              "        \n",
              "  <svg xmlns=\"http://www.w3.org/2000/svg\" height=\"24px\"viewBox=\"0 0 24 24\"\n",
              "       width=\"24px\">\n",
              "    <path d=\"M0 0h24v24H0V0z\" fill=\"none\"/>\n",
              "    <path d=\"M18.56 5.44l.94 2.06.94-2.06 2.06-.94-2.06-.94-.94-2.06-.94 2.06-2.06.94zm-11 1L8.5 8.5l.94-2.06 2.06-.94-2.06-.94L8.5 2.5l-.94 2.06-2.06.94zm10 10l.94 2.06.94-2.06 2.06-.94-2.06-.94-.94-2.06-.94 2.06-2.06.94z\"/><path d=\"M17.41 7.96l-1.37-1.37c-.4-.4-.92-.59-1.43-.59-.52 0-1.04.2-1.43.59L10.3 9.45l-7.72 7.72c-.78.78-.78 2.05 0 2.83L4 21.41c.39.39.9.59 1.41.59.51 0 1.02-.2 1.41-.59l7.78-7.78 2.81-2.81c.8-.78.8-2.07 0-2.86zM5.41 20L4 18.59l7.72-7.72 1.47 1.35L5.41 20z\"/>\n",
              "  </svg>\n",
              "      </button>\n",
              "      \n",
              "  <style>\n",
              "    .colab-df-container {\n",
              "      display:flex;\n",
              "      flex-wrap:wrap;\n",
              "      gap: 12px;\n",
              "    }\n",
              "\n",
              "    .colab-df-convert {\n",
              "      background-color: #E8F0FE;\n",
              "      border: none;\n",
              "      border-radius: 50%;\n",
              "      cursor: pointer;\n",
              "      display: none;\n",
              "      fill: #1967D2;\n",
              "      height: 32px;\n",
              "      padding: 0 0 0 0;\n",
              "      width: 32px;\n",
              "    }\n",
              "\n",
              "    .colab-df-convert:hover {\n",
              "      background-color: #E2EBFA;\n",
              "      box-shadow: 0px 1px 2px rgba(60, 64, 67, 0.3), 0px 1px 3px 1px rgba(60, 64, 67, 0.15);\n",
              "      fill: #174EA6;\n",
              "    }\n",
              "\n",
              "    [theme=dark] .colab-df-convert {\n",
              "      background-color: #3B4455;\n",
              "      fill: #D2E3FC;\n",
              "    }\n",
              "\n",
              "    [theme=dark] .colab-df-convert:hover {\n",
              "      background-color: #434B5C;\n",
              "      box-shadow: 0px 1px 3px 1px rgba(0, 0, 0, 0.15);\n",
              "      filter: drop-shadow(0px 1px 2px rgba(0, 0, 0, 0.3));\n",
              "      fill: #FFFFFF;\n",
              "    }\n",
              "  </style>\n",
              "\n",
              "      <script>\n",
              "        const buttonEl =\n",
              "          document.querySelector('#df-6d933a52-0ef7-465b-82e9-9904bd42fcca button.colab-df-convert');\n",
              "        buttonEl.style.display =\n",
              "          google.colab.kernel.accessAllowed ? 'block' : 'none';\n",
              "\n",
              "        async function convertToInteractive(key) {\n",
              "          const element = document.querySelector('#df-6d933a52-0ef7-465b-82e9-9904bd42fcca');\n",
              "          const dataTable =\n",
              "            await google.colab.kernel.invokeFunction('convertToInteractive',\n",
              "                                                     [key], {});\n",
              "          if (!dataTable) return;\n",
              "\n",
              "          const docLinkHtml = 'Like what you see? Visit the ' +\n",
              "            '<a target=\"_blank\" href=https://colab.research.google.com/notebooks/data_table.ipynb>data table notebook</a>'\n",
              "            + ' to learn more about interactive tables.';\n",
              "          element.innerHTML = '';\n",
              "          dataTable['output_type'] = 'display_data';\n",
              "          await google.colab.output.renderOutput(dataTable, element);\n",
              "          const docLink = document.createElement('div');\n",
              "          docLink.innerHTML = docLinkHtml;\n",
              "          element.appendChild(docLink);\n",
              "        }\n",
              "      </script>\n",
              "    </div>\n",
              "  </div>\n",
              "  "
            ]
          },
          "metadata": {},
          "execution_count": 8
        }
      ]
    },
    {
      "cell_type": "markdown",
      "metadata": {
        "id": "9927lrtsdNKD"
      },
      "source": [
        "### Text Preprocessing\n"
      ]
    },
    {
      "cell_type": "code",
      "execution_count": 8,
      "metadata": {
        "id": "IhD62g45dVig"
      },
      "outputs": [],
      "source": [
        ""
      ]
    },
    {
      "cell_type": "markdown",
      "metadata": {
        "id": "3x6nB_WbdWEG"
      },
      "source": [
        "### Topic Modeling - Latent Dirichlet Allocation"
      ]
    },
    {
      "cell_type": "code",
      "execution_count": 8,
      "metadata": {
        "id": "4_q7hFVldgXG"
      },
      "outputs": [],
      "source": [
        ""
      ]
    }
  ],
  "metadata": {
    "accelerator": "GPU",
    "colab": {
      "collapsed_sections": [],
      "name": "dh_mini.ipynb",
      "provenance": [],
      "authorship_tag": "ABX9TyPGEY3/T2Ep6cZhzievIaPx",
      "include_colab_link": true
    },
    "gpuClass": "standard",
    "kernelspec": {
      "display_name": "Python 3",
      "name": "python3"
    },
    "language_info": {
      "name": "python"
    }
  },
  "nbformat": 4,
  "nbformat_minor": 0
}