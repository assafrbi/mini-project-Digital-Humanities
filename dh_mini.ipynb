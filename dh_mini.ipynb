{
  "cells": [
    {
      "cell_type": "markdown",
      "metadata": {
        "id": "view-in-github",
        "colab_type": "text"
      },
      "source": [
        "<a href=\"https://colab.research.google.com/github/assafrbi/mini-project-Digital-Humanities/blob/main/dh_mini.ipynb\" target=\"_parent\"><img src=\"https://colab.research.google.com/assets/colab-badge.svg\" alt=\"Open In Colab\"/></a>"
      ]
    },
    {
      "cell_type": "code",
      "source": [
        "from requests import get\n",
        "from bs4 import BeautifulSoup\n",
        "import re\n",
        "from time import sleep\n",
        "from random import randint\n",
        "from warnings import warn\n",
        "from tqdm import tqdm\n",
        "from imdb import Cinemagoer\n",
        "import pandas as pd"
      ],
      "metadata": {
        "id": "kkhA87fh2KoS"
      },
      "execution_count": 9,
      "outputs": []
    },
    {
      "cell_type": "markdown",
      "metadata": {
        "id": "0JbvRwRRc--5"
      },
      "source": [
        "### Load Data"
      ]
    },
    {
      "cell_type": "code",
      "execution_count": 10,
      "metadata": {
        "colab": {
          "base_uri": "https://localhost:8080/"
        },
        "id": "xCsdi2dSclyY",
        "outputId": "bc84b8e9-d86b-42f6-e5b8-6e18c146187d"
      },
      "outputs": [
        {
          "output_type": "stream",
          "name": "stdout",
          "text": [
            "1471\n"
          ]
        }
      ],
      "source": [
        "url = \"https://www.imdb.com/search/title/?title_type=feature&countries=il&start=1&ref_=adv_nxt\"\n",
        "response = get(url)\n",
        "html_soup = BeautifulSoup(response.text, 'html.parser')\n",
        "type(html_soup)\n",
        "\n",
        "num_films_text = html_soup.find_all('div', class_ = 'desc')\n",
        "num_films=re.search('of (\\d.+) titles',str(num_films_text[0])).group(1)\n",
        "num_films=int(num_films.replace(',', ''))\n",
        "print(num_films)"
      ]
    },
    {
      "cell_type": "code",
      "source": [
        "ia = Cinemagoer()\n",
        "movie_name = []\n",
        "year = []\n",
        "time=[]\n",
        "rating=[]\n",
        "votes = []\n",
        "description = []\n",
        "director_s = []\n",
        "imdb_id = []\n",
        "for start in tqdm(range(1, 500, 50)):    \n",
        "    # Make a get request    \n",
        "    url = \"https://www.imdb.com/search/title/?title_type=feature&countries=il&start=\"+str(start)+\"&ref_=adv_nxt\"\n",
        "    page = get(url)\n",
        "    soup = BeautifulSoup(page.text, 'html.parser')\n",
        "    movie_data = soup.findAll('div', attrs = {'class': 'lister-item mode-advanced'})\n",
        "\n",
        "    for store in movie_data:\n",
        "      name = store.h3.a.text\n",
        "      movie_name.append(name)\n",
        "      \n",
        "      year_of_release = store.h3.find('span', class_ = \"lister-item-year text-muted unbold\").text if store.h3.find('span', class_ = \"lister-item-year text-muted unbold\") else \" \"\n",
        "      year.append(year_of_release)\n",
        "          \n",
        "      runtime = store.p.find(\"span\", class_ = 'runtime').text if store.p.find(\"span\", class_ = 'runtime') else \" \"\n",
        "      time.append(runtime)\n",
        "          \n",
        "      rate = store.find('div', class_ = \"inline-block ratings-imdb-rating\").text.replace('\\n', '') if store.find('div', class_ = \"inline-block ratings-imdb-rating\") else \" \"\n",
        "      rating.append(rate)\n",
        "          \n",
        "      value = store.find_all('span', attrs = {'name': \"nv\"})\n",
        "          \n",
        "      vote = value[0].text if store.find_all('span', attrs = {'name': \"nv\"}) else \" \"\n",
        "      votes.append(vote)\n",
        "          \n",
        "      describe = store.find_all('p', class_ = 'text-muted')\n",
        "      description_ = describe[1].text.replace('\\n', '') if len(describe) > 1 else ' '\n",
        "      description.append(description_)\n",
        "            \n",
        "      ps = store.find_all('p')\n",
        "      for p in ps:\n",
        "          if 'Director'in p.text:\n",
        "              director =p.find('a').text\n",
        "      \n",
        "      director_s.append(director)\n",
        "      \n",
        "      imdbID = store.img.get('data-tconst')\n",
        "      imdb_id.append(imdbID[2:])"
      ],
      "metadata": {
        "colab": {
          "base_uri": "https://localhost:8080/"
        },
        "id": "OiZERX1HAaGy",
        "outputId": "6b1885db-f1a0-413e-9852-49516c4556c5"
      },
      "execution_count": 13,
      "outputs": [
        {
          "output_type": "stream",
          "name": "stderr",
          "text": [
            "100%|██████████| 10/10 [00:13<00:00,  1.30s/it]\n"
          ]
        }
      ]
    },
    {
      "cell_type": "code",
      "execution_count": 14,
      "metadata": {
        "id": "Pmnjf6Vp4jCa",
        "colab": {
          "base_uri": "https://localhost:8080/",
          "height": 424
        },
        "outputId": "70a6b7db-c131-4582-d0c2-71ef8e32b5c6"
      },
      "outputs": [
        {
          "output_type": "execute_result",
          "data": {
            "text/plain": [
              "          id                 movie        year  \\\n",
              "0    9100054     The Lost Daughter      (2021)   \n",
              "1    3605418           Knock Knock  (I) (2015)   \n",
              "2    0090859                 Cobra      (1986)   \n",
              "3    3454424   Where Is Anne Frank      (2021)   \n",
              "4    0090927       The Delta Force      (1986)   \n",
              "..       ...                   ...         ...   \n",
              "495  0830833     A Dangerous Dance      (2007)   \n",
              "496  0105416      Tel Aviv Stories      (1992)   \n",
              "497  0141591                 Siege      (1969)   \n",
              "498  8551348  On the Edge: Gesta 2      (2018)   \n",
              "499  1651951             Magic Men      (2014)   \n",
              "\n",
              "                                              synopsis     time rating  \\\n",
              "0    A woman's beach vacation takes a dark turn whe...  121 min    6.7   \n",
              "1    A devoted father helps two stranded young wome...   99 min    4.9   \n",
              "2    A tough-on-crime street cop must protect the o...   87 min    5.8   \n",
              "3    The film follows the journey of Kitty, the ima...   99 min    6.3   \n",
              "4    After a plane is hijacked by terrorists, The D...  125 min    5.6   \n",
              "..                                                 ...      ...    ...   \n",
              "495  Joseph, a young handsome unemployed from a sma...   90 min    2.4   \n",
              "496  Three stories about three women: one is trying...  108 min    7.0   \n",
              "497  Story of a war-widow pressured by her friends ...  100 min    7.5   \n",
              "498  Adam falls victim to a sting and loses all his...   94 min    4.8   \n",
              "499  An elderly Greek man and his Hassidic rapper s...  100 min    6.8   \n",
              "\n",
              "      votes            director  \n",
              "0    59,735   Maggie Gyllenhaal  \n",
              "1    93,191            Eli Roth  \n",
              "2    72,664  George P. Cosmatos  \n",
              "3       665          Ari Folman  \n",
              "4    20,393       Menahem Golan  \n",
              "..      ...                 ...  \n",
              "495      85       Menahem Golan  \n",
              "496      84     Ayelet Menahemi  \n",
              "497      98     Gilberto Tofano  \n",
              "498      14         Kobi Machat  \n",
              "499     213          Guy Nattiv  \n",
              "\n",
              "[500 rows x 8 columns]"
            ],
            "text/html": [
              "\n",
              "  <div id=\"df-bd2f8f75-18bd-46d2-9425-e95948af013c\">\n",
              "    <div class=\"colab-df-container\">\n",
              "      <div>\n",
              "<style scoped>\n",
              "    .dataframe tbody tr th:only-of-type {\n",
              "        vertical-align: middle;\n",
              "    }\n",
              "\n",
              "    .dataframe tbody tr th {\n",
              "        vertical-align: top;\n",
              "    }\n",
              "\n",
              "    .dataframe thead th {\n",
              "        text-align: right;\n",
              "    }\n",
              "</style>\n",
              "<table border=\"1\" class=\"dataframe\">\n",
              "  <thead>\n",
              "    <tr style=\"text-align: right;\">\n",
              "      <th></th>\n",
              "      <th>id</th>\n",
              "      <th>movie</th>\n",
              "      <th>year</th>\n",
              "      <th>synopsis</th>\n",
              "      <th>time</th>\n",
              "      <th>rating</th>\n",
              "      <th>votes</th>\n",
              "      <th>director</th>\n",
              "    </tr>\n",
              "  </thead>\n",
              "  <tbody>\n",
              "    <tr>\n",
              "      <th>0</th>\n",
              "      <td>9100054</td>\n",
              "      <td>The Lost Daughter</td>\n",
              "      <td>(2021)</td>\n",
              "      <td>A woman's beach vacation takes a dark turn whe...</td>\n",
              "      <td>121 min</td>\n",
              "      <td>6.7</td>\n",
              "      <td>59,735</td>\n",
              "      <td>Maggie Gyllenhaal</td>\n",
              "    </tr>\n",
              "    <tr>\n",
              "      <th>1</th>\n",
              "      <td>3605418</td>\n",
              "      <td>Knock Knock</td>\n",
              "      <td>(I) (2015)</td>\n",
              "      <td>A devoted father helps two stranded young wome...</td>\n",
              "      <td>99 min</td>\n",
              "      <td>4.9</td>\n",
              "      <td>93,191</td>\n",
              "      <td>Eli Roth</td>\n",
              "    </tr>\n",
              "    <tr>\n",
              "      <th>2</th>\n",
              "      <td>0090859</td>\n",
              "      <td>Cobra</td>\n",
              "      <td>(1986)</td>\n",
              "      <td>A tough-on-crime street cop must protect the o...</td>\n",
              "      <td>87 min</td>\n",
              "      <td>5.8</td>\n",
              "      <td>72,664</td>\n",
              "      <td>George P. Cosmatos</td>\n",
              "    </tr>\n",
              "    <tr>\n",
              "      <th>3</th>\n",
              "      <td>3454424</td>\n",
              "      <td>Where Is Anne Frank</td>\n",
              "      <td>(2021)</td>\n",
              "      <td>The film follows the journey of Kitty, the ima...</td>\n",
              "      <td>99 min</td>\n",
              "      <td>6.3</td>\n",
              "      <td>665</td>\n",
              "      <td>Ari Folman</td>\n",
              "    </tr>\n",
              "    <tr>\n",
              "      <th>4</th>\n",
              "      <td>0090927</td>\n",
              "      <td>The Delta Force</td>\n",
              "      <td>(1986)</td>\n",
              "      <td>After a plane is hijacked by terrorists, The D...</td>\n",
              "      <td>125 min</td>\n",
              "      <td>5.6</td>\n",
              "      <td>20,393</td>\n",
              "      <td>Menahem Golan</td>\n",
              "    </tr>\n",
              "    <tr>\n",
              "      <th>...</th>\n",
              "      <td>...</td>\n",
              "      <td>...</td>\n",
              "      <td>...</td>\n",
              "      <td>...</td>\n",
              "      <td>...</td>\n",
              "      <td>...</td>\n",
              "      <td>...</td>\n",
              "      <td>...</td>\n",
              "    </tr>\n",
              "    <tr>\n",
              "      <th>495</th>\n",
              "      <td>0830833</td>\n",
              "      <td>A Dangerous Dance</td>\n",
              "      <td>(2007)</td>\n",
              "      <td>Joseph, a young handsome unemployed from a sma...</td>\n",
              "      <td>90 min</td>\n",
              "      <td>2.4</td>\n",
              "      <td>85</td>\n",
              "      <td>Menahem Golan</td>\n",
              "    </tr>\n",
              "    <tr>\n",
              "      <th>496</th>\n",
              "      <td>0105416</td>\n",
              "      <td>Tel Aviv Stories</td>\n",
              "      <td>(1992)</td>\n",
              "      <td>Three stories about three women: one is trying...</td>\n",
              "      <td>108 min</td>\n",
              "      <td>7.0</td>\n",
              "      <td>84</td>\n",
              "      <td>Ayelet Menahemi</td>\n",
              "    </tr>\n",
              "    <tr>\n",
              "      <th>497</th>\n",
              "      <td>0141591</td>\n",
              "      <td>Siege</td>\n",
              "      <td>(1969)</td>\n",
              "      <td>Story of a war-widow pressured by her friends ...</td>\n",
              "      <td>100 min</td>\n",
              "      <td>7.5</td>\n",
              "      <td>98</td>\n",
              "      <td>Gilberto Tofano</td>\n",
              "    </tr>\n",
              "    <tr>\n",
              "      <th>498</th>\n",
              "      <td>8551348</td>\n",
              "      <td>On the Edge: Gesta 2</td>\n",
              "      <td>(2018)</td>\n",
              "      <td>Adam falls victim to a sting and loses all his...</td>\n",
              "      <td>94 min</td>\n",
              "      <td>4.8</td>\n",
              "      <td>14</td>\n",
              "      <td>Kobi Machat</td>\n",
              "    </tr>\n",
              "    <tr>\n",
              "      <th>499</th>\n",
              "      <td>1651951</td>\n",
              "      <td>Magic Men</td>\n",
              "      <td>(2014)</td>\n",
              "      <td>An elderly Greek man and his Hassidic rapper s...</td>\n",
              "      <td>100 min</td>\n",
              "      <td>6.8</td>\n",
              "      <td>213</td>\n",
              "      <td>Guy Nattiv</td>\n",
              "    </tr>\n",
              "  </tbody>\n",
              "</table>\n",
              "<p>500 rows × 8 columns</p>\n",
              "</div>\n",
              "      <button class=\"colab-df-convert\" onclick=\"convertToInteractive('df-bd2f8f75-18bd-46d2-9425-e95948af013c')\"\n",
              "              title=\"Convert this dataframe to an interactive table.\"\n",
              "              style=\"display:none;\">\n",
              "        \n",
              "  <svg xmlns=\"http://www.w3.org/2000/svg\" height=\"24px\"viewBox=\"0 0 24 24\"\n",
              "       width=\"24px\">\n",
              "    <path d=\"M0 0h24v24H0V0z\" fill=\"none\"/>\n",
              "    <path d=\"M18.56 5.44l.94 2.06.94-2.06 2.06-.94-2.06-.94-.94-2.06-.94 2.06-2.06.94zm-11 1L8.5 8.5l.94-2.06 2.06-.94-2.06-.94L8.5 2.5l-.94 2.06-2.06.94zm10 10l.94 2.06.94-2.06 2.06-.94-2.06-.94-.94-2.06-.94 2.06-2.06.94z\"/><path d=\"M17.41 7.96l-1.37-1.37c-.4-.4-.92-.59-1.43-.59-.52 0-1.04.2-1.43.59L10.3 9.45l-7.72 7.72c-.78.78-.78 2.05 0 2.83L4 21.41c.39.39.9.59 1.41.59.51 0 1.02-.2 1.41-.59l7.78-7.78 2.81-2.81c.8-.78.8-2.07 0-2.86zM5.41 20L4 18.59l7.72-7.72 1.47 1.35L5.41 20z\"/>\n",
              "  </svg>\n",
              "      </button>\n",
              "      \n",
              "  <style>\n",
              "    .colab-df-container {\n",
              "      display:flex;\n",
              "      flex-wrap:wrap;\n",
              "      gap: 12px;\n",
              "    }\n",
              "\n",
              "    .colab-df-convert {\n",
              "      background-color: #E8F0FE;\n",
              "      border: none;\n",
              "      border-radius: 50%;\n",
              "      cursor: pointer;\n",
              "      display: none;\n",
              "      fill: #1967D2;\n",
              "      height: 32px;\n",
              "      padding: 0 0 0 0;\n",
              "      width: 32px;\n",
              "    }\n",
              "\n",
              "    .colab-df-convert:hover {\n",
              "      background-color: #E2EBFA;\n",
              "      box-shadow: 0px 1px 2px rgba(60, 64, 67, 0.3), 0px 1px 3px 1px rgba(60, 64, 67, 0.15);\n",
              "      fill: #174EA6;\n",
              "    }\n",
              "\n",
              "    [theme=dark] .colab-df-convert {\n",
              "      background-color: #3B4455;\n",
              "      fill: #D2E3FC;\n",
              "    }\n",
              "\n",
              "    [theme=dark] .colab-df-convert:hover {\n",
              "      background-color: #434B5C;\n",
              "      box-shadow: 0px 1px 3px 1px rgba(0, 0, 0, 0.15);\n",
              "      filter: drop-shadow(0px 1px 2px rgba(0, 0, 0, 0.3));\n",
              "      fill: #FFFFFF;\n",
              "    }\n",
              "  </style>\n",
              "\n",
              "      <script>\n",
              "        const buttonEl =\n",
              "          document.querySelector('#df-bd2f8f75-18bd-46d2-9425-e95948af013c button.colab-df-convert');\n",
              "        buttonEl.style.display =\n",
              "          google.colab.kernel.accessAllowed ? 'block' : 'none';\n",
              "\n",
              "        async function convertToInteractive(key) {\n",
              "          const element = document.querySelector('#df-bd2f8f75-18bd-46d2-9425-e95948af013c');\n",
              "          const dataTable =\n",
              "            await google.colab.kernel.invokeFunction('convertToInteractive',\n",
              "                                                     [key], {});\n",
              "          if (!dataTable) return;\n",
              "\n",
              "          const docLinkHtml = 'Like what you see? Visit the ' +\n",
              "            '<a target=\"_blank\" href=https://colab.research.google.com/notebooks/data_table.ipynb>data table notebook</a>'\n",
              "            + ' to learn more about interactive tables.';\n",
              "          element.innerHTML = '';\n",
              "          dataTable['output_type'] = 'display_data';\n",
              "          await google.colab.output.renderOutput(dataTable, element);\n",
              "          const docLink = document.createElement('div');\n",
              "          docLink.innerHTML = docLinkHtml;\n",
              "          element.appendChild(docLink);\n",
              "        }\n",
              "      </script>\n",
              "    </div>\n",
              "  </div>\n",
              "  "
            ]
          },
          "metadata": {},
          "execution_count": 14
        }
      ],
      "source": [
        "df = pd.DataFrame(\n",
        "    {'id': imdb_id,\n",
        "     'movie': movie_name,\n",
        "     'year': year,\n",
        "     'synopsis': description,\n",
        "     'time': time,\n",
        "     'rating': rating,\n",
        "     'votes': votes,\n",
        "     'director': director_s,\n",
        "     })\n",
        "df"
      ]
    },
    {
      "cell_type": "code",
      "source": [
        "from google.colab import drive\n",
        "drive.mount('/content/gdrive')\n",
        "with open('/content/gdrive/My Drive/movies.txt', 'w') as f:\n",
        "  f.write(df.to_csv())"
      ],
      "metadata": {
        "colab": {
          "base_uri": "https://localhost:8080/"
        },
        "id": "qWDjhZwDNc6_",
        "outputId": "e0d300d2-46b1-4a5a-a64a-196a620e50d8"
      },
      "execution_count": 15,
      "outputs": [
        {
          "output_type": "stream",
          "name": "stdout",
          "text": [
            "Drive already mounted at /content/gdrive; to attempt to forcibly remount, call drive.mount(\"/content/gdrive\", force_remount=True).\n"
          ]
        }
      ]
    },
    {
      "cell_type": "markdown",
      "metadata": {
        "id": "9927lrtsdNKD"
      },
      "source": [
        "### Text Preprocessing\n"
      ]
    },
    {
      "cell_type": "code",
      "execution_count": null,
      "metadata": {
        "id": "IhD62g45dVig"
      },
      "outputs": [],
      "source": [
        ""
      ]
    },
    {
      "cell_type": "markdown",
      "metadata": {
        "id": "3x6nB_WbdWEG"
      },
      "source": [
        "### Topic Modeling - Latent Dirichlet Allocation"
      ]
    },
    {
      "cell_type": "code",
      "execution_count": null,
      "metadata": {
        "id": "4_q7hFVldgXG"
      },
      "outputs": [],
      "source": [
        ""
      ]
    }
  ],
  "metadata": {
    "accelerator": "GPU",
    "colab": {
      "collapsed_sections": [],
      "name": "dh_mini.ipynb",
      "provenance": [],
      "authorship_tag": "ABX9TyOrvI92sXTbStxEHmpIhldk",
      "include_colab_link": true
    },
    "gpuClass": "standard",
    "kernelspec": {
      "display_name": "Python 3",
      "name": "python3"
    },
    "language_info": {
      "name": "python"
    }
  },
  "nbformat": 4,
  "nbformat_minor": 0
}