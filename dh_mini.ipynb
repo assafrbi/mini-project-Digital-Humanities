{
  "cells": [
    {
      "cell_type": "markdown",
      "metadata": {
        "id": "view-in-github",
        "colab_type": "text"
      },
      "source": [
        "<a href=\"https://colab.research.google.com/github/assafrbi/mini-project-Digital-Humanities/blob/main/dh_mini.ipynb\" target=\"_parent\"><img src=\"https://colab.research.google.com/assets/colab-badge.svg\" alt=\"Open In Colab\"/></a>"
      ]
    },
    {
      "cell_type": "code",
      "execution_count": 22,
      "metadata": {
        "colab": {
          "base_uri": "https://localhost:8080/"
        },
        "id": "kkhA87fh2KoS",
        "outputId": "db4b4f7e-e2a7-47fe-9aed-8f9991f7da3d"
      },
      "outputs": [
        {
          "output_type": "stream",
          "name": "stdout",
          "text": [
            "Looking in indexes: https://pypi.org/simple, https://us-python.pkg.dev/colab-wheels/public/simple/\n",
            "Requirement already satisfied: cinemagoer in /usr/local/lib/python3.7/dist-packages (2022.2.11)\n",
            "Requirement already satisfied: lxml in /usr/local/lib/python3.7/dist-packages (from cinemagoer) (4.2.6)\n",
            "Requirement already satisfied: SQLAlchemy in /usr/local/lib/python3.7/dist-packages (from cinemagoer) (1.4.37)\n",
            "Requirement already satisfied: greenlet!=0.4.17 in /usr/local/lib/python3.7/dist-packages (from SQLAlchemy->cinemagoer) (1.1.2)\n",
            "Requirement already satisfied: importlib-metadata in /usr/local/lib/python3.7/dist-packages (from SQLAlchemy->cinemagoer) (4.11.4)\n",
            "Requirement already satisfied: typing-extensions>=3.6.4 in /usr/local/lib/python3.7/dist-packages (from importlib-metadata->SQLAlchemy->cinemagoer) (4.1.1)\n",
            "Requirement already satisfied: zipp>=0.5 in /usr/local/lib/python3.7/dist-packages (from importlib-metadata->SQLAlchemy->cinemagoer) (3.8.0)\n",
            "Looking in indexes: https://pypi.org/simple, https://us-python.pkg.dev/colab-wheels/public/simple/\n",
            "Requirement already satisfied: wikipedia in /usr/local/lib/python3.7/dist-packages (1.4.0)\n",
            "Requirement already satisfied: beautifulsoup4 in /usr/local/lib/python3.7/dist-packages (from wikipedia) (4.6.3)\n",
            "Requirement already satisfied: requests<3.0.0,>=2.0.0 in /usr/local/lib/python3.7/dist-packages (from wikipedia) (2.23.0)\n",
            "Requirement already satisfied: urllib3!=1.25.0,!=1.25.1,<1.26,>=1.21.1 in /usr/local/lib/python3.7/dist-packages (from requests<3.0.0,>=2.0.0->wikipedia) (1.24.3)\n",
            "Requirement already satisfied: idna<3,>=2.5 in /usr/local/lib/python3.7/dist-packages (from requests<3.0.0,>=2.0.0->wikipedia) (2.10)\n",
            "Requirement already satisfied: chardet<4,>=3.0.2 in /usr/local/lib/python3.7/dist-packages (from requests<3.0.0,>=2.0.0->wikipedia) (3.0.4)\n",
            "Requirement already satisfied: certifi>=2017.4.17 in /usr/local/lib/python3.7/dist-packages (from requests<3.0.0,>=2.0.0->wikipedia) (2022.6.15)\n"
          ]
        }
      ],
      "source": [
        "!pip install cinemagoer\n",
        "!pip install wikipedia\n",
        "import requests\n",
        "from bs4 import BeautifulSoup\n",
        "from dateutil.parser import parse\n",
        "import concurrent.futures\n",
        "import pandas as pd\n",
        "from imdb import Cinemagoer\n",
        "import wikipedia\n",
        "import numpy as np\n",
        "\n",
        "# Maximum number of threads that will be spawned\n",
        "MAX_THREADS = 50"
      ]
    },
    {
      "cell_type": "markdown",
      "metadata": {
        "id": "0JbvRwRRc--5"
      },
      "source": [
        "### Load Data from IMDb"
      ]
    },
    {
      "cell_type": "code",
      "execution_count": null,
      "metadata": {
        "id": "DjiMB02resyv"
      },
      "outputs": [],
      "source": [
        "movie_title_arr = []\n",
        "movie_year_arr = []\n",
        "movie_genre_arr = []\n",
        "image_id_arr = []"
      ]
    },
    {
      "cell_type": "code",
      "execution_count": null,
      "metadata": {
        "id": "hq9RyGdNeupn"
      },
      "outputs": [],
      "source": [
        "def getMovieTitle(header):\n",
        "    try:\n",
        "        return header[0].find(\"a\").getText()\n",
        "    except:\n",
        "        return 'NA'\n",
        "\n",
        "def getReleaseYear(header):\n",
        "    try:\n",
        "        return header[0].find(\"span\",  {\"class\": \"lister-item-year text-muted unbold\"}).getText()\n",
        "    except:\n",
        "        return 'NA'\n",
        "\n",
        "def getGenre(muted_text):\n",
        "    try:\n",
        "        return muted_text.find(\"span\",  {\"class\":  \"genre\"}).getText().strip()\n",
        "    except:\n",
        "        return 'NA'\n",
        "\n",
        "def getImageId(image):\n",
        "    try:\n",
        "        return image.get('data-tconst')[2:]\n",
        "    except:\n",
        "        return 'NA'"
      ]
    },
    {
      "cell_type": "code",
      "execution_count": null,
      "metadata": {
        "id": "YcI-6a5Sew_W"
      },
      "outputs": [],
      "source": [
        "def main(imdb_url):\n",
        "    response = requests.get(imdb_url)\n",
        "    soup = BeautifulSoup(response.text, 'html.parser')\n",
        "\n",
        "    # Movie Name\n",
        "    movies_list  = soup.find_all(\"div\", {\"class\": \"lister-item mode-advanced\"})\n",
        "    \n",
        "    for movie in movies_list:\n",
        "        header = movie.find_all(\"h3\", {\"class\":  \"lister-item-header\"})\n",
        "        muted_text = movie.find_all(\"p\", {\"class\":  \"text-muted\"})[0]\n",
        "        imageDiv =  movie.find(\"div\", {\"class\": \"lister-item-image float-left\"})\n",
        "        image = imageDiv.find(\"img\", \"loadlate\")\n",
        "        \n",
        "        # Movie Title\n",
        "        movie_title = getMovieTitle(header)\n",
        "        movie_title_arr.append(movie_title)\n",
        "\n",
        "        # Movie id\n",
        "        id = getImageId(image)\n",
        "        image_id_arr.append(id)\n",
        "        \n",
        "        # Movie release year\n",
        "        year = getReleaseYear(header)\n",
        "        movie_year_arr.append(year)\n",
        "        \n",
        "        # Genre\n",
        "        genre = getGenre(muted_text)\n",
        "        movie_genre_arr.append(genre)\n",
        "        \n",
        "        # # Movie Synopsis\n",
        "        # synopsis = getsynopsis(id)\n",
        "        # movie_synopsis_arr.append(synopsis)\n",
        "        "
      ]
    },
    {
      "cell_type": "code",
      "execution_count": null,
      "metadata": {
        "id": "qu5z8-o6e1aL"
      },
      "outputs": [],
      "source": [
        "# An array to store all the URL that are being queried\n",
        "imageArr = []\n",
        "\n",
        "# Maximum number of pages one wants to iterate over\n",
        "MAX_PAGE =51\n",
        "\n",
        "# Loop to generate all the URLS.\n",
        "for i in range(1, 1500, 50):\n",
        "    imdb_url = f'https://www.imdb.com/search/title/?title_type=feature&countries=il&start={i}&ref_=adv_nxt'\n",
        "    imageArr.append(imdb_url)"
      ]
    },
    {
      "cell_type": "code",
      "execution_count": null,
      "metadata": {
        "id": "guZjf9phfEB3"
      },
      "outputs": [],
      "source": [
        "def download_stories(story_urls):\n",
        "    threads = min(MAX_THREADS, len(story_urls))\n",
        "    with concurrent.futures.ThreadPoolExecutor(max_workers=threads) as executor:\n",
        "        executor.map(main, story_urls)"
      ]
    },
    {
      "cell_type": "code",
      "execution_count": null,
      "metadata": {
        "colab": {
          "base_uri": "https://localhost:8080/",
          "height": 441
        },
        "id": "6a19FAWqfHOF",
        "outputId": "94674b3a-1362-4622-99d0-5f3ff36fa348"
      },
      "outputs": [
        {
          "name": "stdout",
          "output_type": "stream",
          "text": [
            "--------- Download Complete CSV Formed --------\n"
          ]
        },
        {
          "data": {
            "text/html": [
              "\n",
              "  <div id=\"df-8686ebb9-3b49-405a-95de-59e47ee3b4c1\">\n",
              "    <div class=\"colab-df-container\">\n",
              "      <div>\n",
              "<style scoped>\n",
              "    .dataframe tbody tr th:only-of-type {\n",
              "        vertical-align: middle;\n",
              "    }\n",
              "\n",
              "    .dataframe tbody tr th {\n",
              "        vertical-align: top;\n",
              "    }\n",
              "\n",
              "    .dataframe thead th {\n",
              "        text-align: right;\n",
              "    }\n",
              "</style>\n",
              "<table border=\"1\" class=\"dataframe\">\n",
              "  <thead>\n",
              "    <tr style=\"text-align: right;\">\n",
              "      <th></th>\n",
              "      <th>Title</th>\n",
              "      <th>Year</th>\n",
              "      <th>Genre</th>\n",
              "      <th>IMDb id</th>\n",
              "    </tr>\n",
              "  </thead>\n",
              "  <tbody>\n",
              "    <tr>\n",
              "      <th>0</th>\n",
              "      <td>The Lost Daughter</td>\n",
              "      <td>(2021)</td>\n",
              "      <td>Drama</td>\n",
              "      <td>9100054</td>\n",
              "    </tr>\n",
              "    <tr>\n",
              "      <th>1</th>\n",
              "      <td>Knock Knock</td>\n",
              "      <td>(I) (2015)</td>\n",
              "      <td>Drama, Thriller</td>\n",
              "      <td>3605418</td>\n",
              "    </tr>\n",
              "    <tr>\n",
              "      <th>2</th>\n",
              "      <td>Cobra</td>\n",
              "      <td>(1986)</td>\n",
              "      <td>Action, Crime, Thriller</td>\n",
              "      <td>0090859</td>\n",
              "    </tr>\n",
              "    <tr>\n",
              "      <th>3</th>\n",
              "      <td>The Delta Force</td>\n",
              "      <td>(1986)</td>\n",
              "      <td>Action, Adventure, Drama</td>\n",
              "      <td>0090927</td>\n",
              "    </tr>\n",
              "    <tr>\n",
              "      <th>4</th>\n",
              "      <td>The Kindergarten Teacher</td>\n",
              "      <td>(2018)</td>\n",
              "      <td>Drama, Thriller</td>\n",
              "      <td>6952960</td>\n",
              "    </tr>\n",
              "    <tr>\n",
              "      <th>...</th>\n",
              "      <td>...</td>\n",
              "      <td>...</td>\n",
              "      <td>...</td>\n",
              "      <td>...</td>\n",
              "    </tr>\n",
              "    <tr>\n",
              "      <th>1466</th>\n",
              "      <td>Double Edge</td>\n",
              "      <td>(1992)</td>\n",
              "      <td>Drama, Thriller</td>\n",
              "      <td>0104131</td>\n",
              "    </tr>\n",
              "    <tr>\n",
              "      <th>1467</th>\n",
              "      <td>The Loners</td>\n",
              "      <td>(2009)</td>\n",
              "      <td>Drama</td>\n",
              "      <td>1455618</td>\n",
              "    </tr>\n",
              "    <tr>\n",
              "      <th>1468</th>\n",
              "      <td>A Place in Heaven</td>\n",
              "      <td>(2013)</td>\n",
              "      <td>Drama</td>\n",
              "      <td>2960994</td>\n",
              "    </tr>\n",
              "    <tr>\n",
              "      <th>1469</th>\n",
              "      <td>The Spy Who Never Was</td>\n",
              "      <td>(1976)</td>\n",
              "      <td>Drama</td>\n",
              "      <td>0070812</td>\n",
              "    </tr>\n",
              "    <tr>\n",
              "      <th>1470</th>\n",
              "      <td>Campfire</td>\n",
              "      <td>(2004)</td>\n",
              "      <td>Drama</td>\n",
              "      <td>0374036</td>\n",
              "    </tr>\n",
              "  </tbody>\n",
              "</table>\n",
              "<p>1471 rows × 4 columns</p>\n",
              "</div>\n",
              "      <button class=\"colab-df-convert\" onclick=\"convertToInteractive('df-8686ebb9-3b49-405a-95de-59e47ee3b4c1')\"\n",
              "              title=\"Convert this dataframe to an interactive table.\"\n",
              "              style=\"display:none;\">\n",
              "        \n",
              "  <svg xmlns=\"http://www.w3.org/2000/svg\" height=\"24px\"viewBox=\"0 0 24 24\"\n",
              "       width=\"24px\">\n",
              "    <path d=\"M0 0h24v24H0V0z\" fill=\"none\"/>\n",
              "    <path d=\"M18.56 5.44l.94 2.06.94-2.06 2.06-.94-2.06-.94-.94-2.06-.94 2.06-2.06.94zm-11 1L8.5 8.5l.94-2.06 2.06-.94-2.06-.94L8.5 2.5l-.94 2.06-2.06.94zm10 10l.94 2.06.94-2.06 2.06-.94-2.06-.94-.94-2.06-.94 2.06-2.06.94z\"/><path d=\"M17.41 7.96l-1.37-1.37c-.4-.4-.92-.59-1.43-.59-.52 0-1.04.2-1.43.59L10.3 9.45l-7.72 7.72c-.78.78-.78 2.05 0 2.83L4 21.41c.39.39.9.59 1.41.59.51 0 1.02-.2 1.41-.59l7.78-7.78 2.81-2.81c.8-.78.8-2.07 0-2.86zM5.41 20L4 18.59l7.72-7.72 1.47 1.35L5.41 20z\"/>\n",
              "  </svg>\n",
              "      </button>\n",
              "      \n",
              "  <style>\n",
              "    .colab-df-container {\n",
              "      display:flex;\n",
              "      flex-wrap:wrap;\n",
              "      gap: 12px;\n",
              "    }\n",
              "\n",
              "    .colab-df-convert {\n",
              "      background-color: #E8F0FE;\n",
              "      border: none;\n",
              "      border-radius: 50%;\n",
              "      cursor: pointer;\n",
              "      display: none;\n",
              "      fill: #1967D2;\n",
              "      height: 32px;\n",
              "      padding: 0 0 0 0;\n",
              "      width: 32px;\n",
              "    }\n",
              "\n",
              "    .colab-df-convert:hover {\n",
              "      background-color: #E2EBFA;\n",
              "      box-shadow: 0px 1px 2px rgba(60, 64, 67, 0.3), 0px 1px 3px 1px rgba(60, 64, 67, 0.15);\n",
              "      fill: #174EA6;\n",
              "    }\n",
              "\n",
              "    [theme=dark] .colab-df-convert {\n",
              "      background-color: #3B4455;\n",
              "      fill: #D2E3FC;\n",
              "    }\n",
              "\n",
              "    [theme=dark] .colab-df-convert:hover {\n",
              "      background-color: #434B5C;\n",
              "      box-shadow: 0px 1px 3px 1px rgba(0, 0, 0, 0.15);\n",
              "      filter: drop-shadow(0px 1px 2px rgba(0, 0, 0, 0.3));\n",
              "      fill: #FFFFFF;\n",
              "    }\n",
              "  </style>\n",
              "\n",
              "      <script>\n",
              "        const buttonEl =\n",
              "          document.querySelector('#df-8686ebb9-3b49-405a-95de-59e47ee3b4c1 button.colab-df-convert');\n",
              "        buttonEl.style.display =\n",
              "          google.colab.kernel.accessAllowed ? 'block' : 'none';\n",
              "\n",
              "        async function convertToInteractive(key) {\n",
              "          const element = document.querySelector('#df-8686ebb9-3b49-405a-95de-59e47ee3b4c1');\n",
              "          const dataTable =\n",
              "            await google.colab.kernel.invokeFunction('convertToInteractive',\n",
              "                                                     [key], {});\n",
              "          if (!dataTable) return;\n",
              "\n",
              "          const docLinkHtml = 'Like what you see? Visit the ' +\n",
              "            '<a target=\"_blank\" href=https://colab.research.google.com/notebooks/data_table.ipynb>data table notebook</a>'\n",
              "            + ' to learn more about interactive tables.';\n",
              "          element.innerHTML = '';\n",
              "          dataTable['output_type'] = 'display_data';\n",
              "          await google.colab.output.renderOutput(dataTable, element);\n",
              "          const docLink = document.createElement('div');\n",
              "          docLink.innerHTML = docLinkHtml;\n",
              "          element.appendChild(docLink);\n",
              "        }\n",
              "      </script>\n",
              "    </div>\n",
              "  </div>\n",
              "  "
            ],
            "text/plain": [
              "                         Title        Year                     Genre  IMDb id\n",
              "0            The Lost Daughter      (2021)                     Drama  9100054\n",
              "1                  Knock Knock  (I) (2015)           Drama, Thriller  3605418\n",
              "2                        Cobra      (1986)   Action, Crime, Thriller  0090859\n",
              "3              The Delta Force      (1986)  Action, Adventure, Drama  0090927\n",
              "4     The Kindergarten Teacher      (2018)           Drama, Thriller  6952960\n",
              "...                        ...         ...                       ...      ...\n",
              "1466               Double Edge      (1992)           Drama, Thriller  0104131\n",
              "1467                The Loners      (2009)                     Drama  1455618\n",
              "1468         A Place in Heaven      (2013)                     Drama  2960994\n",
              "1469     The Spy Who Never Was      (1976)                     Drama  0070812\n",
              "1470                  Campfire      (2004)                     Drama  0374036\n",
              "\n",
              "[1471 rows x 4 columns]"
            ]
          },
          "execution_count": 8,
          "metadata": {},
          "output_type": "execute_result"
        }
      ],
      "source": [
        "# Call the download function with the array of URLS called imageArr\n",
        "download_stories(imageArr)\n",
        "\n",
        "# Attach all the data to the pandas dataframe. You can optionally write it to a CSV file as well\n",
        "movieDf = pd.DataFrame({\n",
        "    \"Title\": movie_title_arr,\n",
        "    \"Year\": movie_year_arr,\n",
        "    \"Genre\": movie_genre_arr,\n",
        "    \"IMDb id\": image_id_arr,\n",
        "})\n",
        "\n",
        "movieDf.to_csv('israel_originated_movies_imdb.csv', index=False)\n",
        "print('--------- Download Complete CSV Formed --------')\n",
        "\n",
        "movieDf"
      ]
    },
    {
      "cell_type": "markdown",
      "metadata": {
        "id": "XAZ-5oJzezUA"
      },
      "source": [
        "### Load Synopses from IMDb"
      ]
    },
    {
      "cell_type": "code",
      "execution_count": 15,
      "metadata": {
        "id": "3gDTIJYteyLH"
      },
      "outputs": [],
      "source": [
        "imdb_synopses_arr = []\n",
        "\n",
        "def getImdbSynopsis(id):\n",
        "  ia = Cinemagoer()\n",
        "  movie = ia.get_movie(id)\n",
        "  imdb_synopses_arr.append(movie['plot'])\n",
        "\n",
        "def get_from_imdb(ids):\n",
        "  threads = min(MAX_THREADS, len(ids))\n",
        "  with concurrent.futures.ThreadPoolExecutor(max_workers=threads) as executor:\n",
        "      executor.map(getImdbSynopsis, ids)"
      ]
    },
    {
      "cell_type": "code",
      "source": [
        "data = pd.read_csv('israel_originated_movies_imdb.csv')\n",
        "image_id_arr = data['IMDb id'].values"
      ],
      "metadata": {
        "id": "Oo0lnG0IkinX"
      },
      "execution_count": 16,
      "outputs": []
    },
    {
      "cell_type": "code",
      "execution_count": null,
      "metadata": {
        "id": "pPJUGzhqfZzG"
      },
      "outputs": [],
      "source": [
        "get_from_imdb(image_id_arr) # multi threded try\n",
        "\n",
        "# for id in image_id_arr:\n",
        "#   getImdbSynopsis(id)\n",
        "\n",
        "data['Synopsis'] = imdb_synopses_arr\n",
        "data.to_csv('israel_originated_movies_imdb.csv', index=False)\n",
        "print('--------- Download Complete CSV Formed --------')\n",
        "\n",
        "data"
      ]
    },
    {
      "cell_type": "markdown",
      "metadata": {
        "id": "kmDwDOQtYU-y"
      },
      "source": [
        "### Load Synopses from Wikipedia - Need some tuning !!!!!!"
      ]
    },
    {
      "cell_type": "code",
      "execution_count": null,
      "metadata": {
        "id": "iqRGHw2nYeC4"
      },
      "outputs": [],
      "source": [
        "movie_plot_arr = []\n",
        "movie_summary_arr = []\n",
        "wikipedia_title_arr = []\n",
        "\n",
        "def find_title_on_wikipedia(title, year):\n",
        "    search_results = wikipedia.search(title, results=20)\n",
        "    search_results_exact = [s for s in search_results if title in s] # results that have the exact title as part of them\n",
        "    \n",
        "    if len(search_results_exact) != 0: # if the title is part of at least one result\n",
        "\n",
        "        # if film exists in title but not together with series or score (an example was Resident Evil 2002)\n",
        "        search_results_film = [s for s in search_results_exact if 'film' in s and 'score' not in s and 'series' not in s]\n",
        "\n",
        "        # Go on by additionaly searching for the year in the title\n",
        "        if len(search_results_film) == 0: # if there is no results with 'film' in the title\n",
        "            search_results_year = [s for s in search_results_exact if str(year) in s]\n",
        "            if len(search_results_year) == 0: # if there is no results with year in the title\n",
        "                search_results_final = search_results_exact\n",
        "            else:\n",
        "                search_results_final = search_results_year\n",
        "        else:\n",
        "            search_results_year = [s for s in search_results_film if str(year) in s]\n",
        "            if len(search_results_year) == 0:\n",
        "                search_results_final = search_results_film\n",
        "            else:\n",
        "                search_results_final = search_results_year  \n",
        "\n",
        "        # for the possible remains of the search results take the exact match or the first result\n",
        "        for s in search_results_final:\n",
        "            if s == title:\n",
        "                title = s\n",
        "            else:\n",
        "                title = search_results_final[0]\n",
        "    \n",
        "    else: # take the first result\n",
        "        title = search_results[0]\n",
        "\n",
        "    return title\n",
        "\n",
        "def add_wikipedia():\n",
        "  section_names = ['Plot','Synopsis','Plot synopsis','Plot summary', 'Story','Plotline','The Beginning','Summary', 'Content','Premise']\n",
        "  for i in range (len(image_id_arr)):\n",
        "    imdb_title = movie_title_arr[i]\n",
        "    year = movie_year_arr[i]\n",
        "    title, page, plot, summary = np.nan, np.nan, np.nan, np.nan\n",
        "\n",
        "    try:\n",
        "      title = find_title_on_wikipedia(imdb_title, year)\n",
        "      search_results = wikipedia.search(title, results=20)\n",
        "      page = wikipedia.WikipediaPage(title = title)\n",
        "    except:\n",
        "        print(f'Title \"{imdb_title}\" does not exist on Wikipedia.')\n",
        "\n",
        "    for section in section_names:\n",
        "        try:\n",
        "            plot = page.section(section)\n",
        "        except:\n",
        "            print(f'Plot for -{imdb_title}- was not found.')\n",
        "\n",
        "    # for some movies with general title - modify the search by adding (year film) next to title\n",
        "    if plot is None:\n",
        "        imdb_title = f'{imdb_title} ({year} film)'\n",
        "        try:          \n",
        "            title = find_title_on_wikipedia(imdb_title, year)\n",
        "            search_results = wikipedia.search(title, results=20)\n",
        "            page = wikipedia.WikipediaPage(title = title)\n",
        "        except:\n",
        "            print(f'Title \"{imdb_title}\" does not exist on Wikipedia.')\n",
        "\n",
        "        for section in section_names:\n",
        "            try:\n",
        "                plot = page.section(section)\n",
        "            except:\n",
        "              print(f'Plot for -{imdb_title}- was not found.')\n",
        "        \n",
        "    try:\n",
        "        summary = page.summary\n",
        "    except:\n",
        "        print(f'Summary for -{imdb_title}- was not found.')        \n",
        "    \n",
        "    wikipedia_title_arr.append(title)\n",
        "    movie_plot_arr.append(plot)\n",
        "    movie_summary_arr.append(summary)"
      ]
    },
    {
      "cell_type": "code",
      "execution_count": null,
      "metadata": {
        "id": "tp5xuQrMbbkJ"
      },
      "outputs": [],
      "source": [
        "data = pd.read_csv('israel_originated_movies_imdb.csv')\n",
        "add_wikipedia()"
      ]
    },
    {
      "cell_type": "markdown",
      "metadata": {
        "id": "9927lrtsdNKD"
      },
      "source": [
        "### Text Preprocessing\n"
      ]
    },
    {
      "cell_type": "code",
      "execution_count": null,
      "metadata": {
        "id": "IhD62g45dVig"
      },
      "outputs": [],
      "source": [
        ""
      ]
    },
    {
      "cell_type": "markdown",
      "metadata": {
        "id": "3x6nB_WbdWEG"
      },
      "source": [
        "### Topic Modeling - Latent Dirichlet Allocation"
      ]
    },
    {
      "cell_type": "code",
      "execution_count": null,
      "metadata": {
        "id": "4_q7hFVldgXG"
      },
      "outputs": [],
      "source": [
        ""
      ]
    }
  ],
  "metadata": {
    "accelerator": "GPU",
    "colab": {
      "collapsed_sections": [],
      "name": "dh_mini.ipynb",
      "provenance": [],
      "authorship_tag": "ABX9TyOCJzLpPeNckHU6MmDck8j8",
      "include_colab_link": true
    },
    "gpuClass": "standard",
    "kernelspec": {
      "display_name": "Python 3",
      "name": "python3"
    },
    "language_info": {
      "name": "python"
    }
  },
  "nbformat": 4,
  "nbformat_minor": 0
}